{
 "cells": [
  {
   "cell_type": "code",
   "execution_count": null,
   "metadata": {},
   "outputs": [],
   "source": [
    "import os\n",
    "import requests\n",
    "from bs4 import BeautifulSoup\n",
    "\n",
    "#Get URL and get all links\n",
    "url = \"http://web.mta.info/developers/turnstile.html\"\n",
    "r = requests.get(url)\n",
    "soup = BeautifulSoup(r.content)\n",
    "links = soup.findAll('a')\n",
    "\n",
    "#Select links for data after 2014\n",
    "txt_links = links[36:254]\n",
    "\n",
    "\n",
    "#Clean up links\n",
    "cleaned_links = []\n",
    "for link in txt_links:\n",
    "    cleaned_links.append(str(link).split(\"\\\"\")[1])\n",
    "    \n",
    "base_url = \"http://web.mta.info/developers/\"\n",
    "final_links = []\n",
    "for link in cleaned_links:\n",
    "    final_links.append(base_url + link)\n",
    "\n",
    "    \n",
    "#Create textfile of link addresses\n",
    "os.system(\"mkdir data && mkdir data/text_data\")\n",
    "file_list = open(\"data/text_data/file_list.txt\",\"w\")\n",
    "file_list.write('\\n'.join(str(line) for line in final_links))\n",
    "file_list.close()\n",
    "\n",
    "#Use command line to download data\n",
    "os.system('cd data/text_data && wget -N -c -i file_list.txt')"
   ]
  }
 ],
 "metadata": {
  "kernelspec": {
   "display_name": "Python (geospatial-analysis)",
   "language": "python",
   "name": "geospatial-analysis"
  },
  "language_info": {
   "codemirror_mode": {
    "name": "ipython",
    "version": 3
   },
   "file_extension": ".py",
   "mimetype": "text/x-python",
   "name": "python",
   "nbconvert_exporter": "python",
   "pygments_lexer": "ipython3",
   "version": "3.7.1"
  }
 },
 "nbformat": 4,
 "nbformat_minor": 2
}
